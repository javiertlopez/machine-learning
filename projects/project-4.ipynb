{
 "metadata": {
  "language_info": {
   "codemirror_mode": {
    "name": "ipython",
    "version": 3
   },
   "file_extension": ".py",
   "mimetype": "text/x-python",
   "name": "python",
   "nbconvert_exporter": "python",
   "pygments_lexer": "ipython3",
   "version": "3.9.5"
  },
  "orig_nbformat": 2,
  "kernelspec": {
   "name": "python395jvsc74a57bd0e009da982b1108dc2dd3854d06b1e7841c606891d0e6f09f10db1c60575b7c75",
   "display_name": "Python 3.9.5 64-bit ('venv': venv)"
  },
  "metadata": {
   "interpreter": {
    "hash": "ac2eaa0ea0ebeafcc7822e65e46aa9d4f966f30b695406963e145ea4a91cd4fc"
   }
  }
 },
 "nbformat": 4,
 "nbformat_minor": 2,
 "cells": [
  {
   "source": [
    "# Project 4: Marvel\n",
    "\n",
    "## Get data"
   ],
   "cell_type": "markdown",
   "metadata": {}
  },
  {
   "cell_type": "code",
   "execution_count": 1,
   "metadata": {},
   "outputs": [],
   "source": [
    "import sklearn\n",
    "assert sklearn.__version__ >= \"0.20\"\n",
    "\n",
    "import numpy as np\n",
    "import pandas as pd\n",
    "\n",
    "np.random.seed(42)\n",
    "\n",
    "from sklearn.model_selection import train_test_split"
   ]
  },
  {
   "cell_type": "code",
   "execution_count": 2,
   "metadata": {},
   "outputs": [
    {
     "output_type": "execute_result",
     "data": {
      "text/plain": [
       "           n0          n1          n2          n3          n4          n5  \\\n",
       "   continuous  continuous  continuous  continuous  continuous  continuous   \n",
       "  hidden=True hidden=True hidden=True hidden=True hidden=True hidden=True   \n",
       "0    0.057233    0.250492    0.063942    0.172508    0.151336    0.761282   \n",
       "1    0.527960    0.065968    0.322380    0.227833    0.332396    0.514956   \n",
       "2    1.285565    0.276849    0.170459    0.122833    0.418304    0.961085   \n",
       "3    0.630173    0.549427    0.060149    0.046236    0.156370    1.016843   \n",
       "4    0.657571    0.064198    0.196774    0.145046    0.359520    0.502956   \n",
       "\n",
       "           n6          n7          n8          n9  ...       n2044  \\\n",
       "   continuous  continuous  continuous  continuous  ...  continuous   \n",
       "  hidden=True hidden=True hidden=True hidden=True  ... hidden=True   \n",
       "0    0.329639    0.305660    0.288729    0.177333  ...    0.283171   \n",
       "1    0.189759    0.063305    0.626723    0.218293  ...    0.045701   \n",
       "2    0.412920    0.158372    0.352132    0.197926  ...    0.231471   \n",
       "3    0.223010    0.472131    0.140830    0.367068  ...    0.207662   \n",
       "4    0.006879    0.213103    0.047750    0.067372  ...    0.287636   \n",
       "\n",
       "        n2045       n2046       n2047                  category image name  \\\n",
       "   continuous  continuous  continuous antman blackwidow ironman     string   \n",
       "  hidden=True hidden=True hidden=True                     class       meta   \n",
       "0    0.454857    0.320978    0.617408                    antman  antman_05   \n",
       "1    0.164897    0.256737    0.716811                    antman  antman_11   \n",
       "2    0.834457    0.081953    0.640881                    antman  antman_10   \n",
       "3    0.169669    0.319665    0.268576                    antman  antman_12   \n",
       "4    0.210364    0.522674    0.349880                    antman  antman_06   \n",
       "\n",
       "                                                                                                      image  \\\n",
       "                                                                                                     string   \n",
       "  meta origin=/Users/htorres/Developer/iteso/javiertlopez/machine-learning/projects/images/train type=image   \n",
       "0                               antman/antman_05.jpg                                                          \n",
       "1                               antman/antman_11.jpg                                                          \n",
       "2                               antman/antman_10.jpg                                                          \n",
       "3                               antman/antman_12.jpg                                                          \n",
       "4                               antman/antman_06.jpg                                                          \n",
       "\n",
       "        size      width     height  \n",
       "  continuous continuous continuous  \n",
       "        meta       meta       meta  \n",
       "0      15178        890        534  \n",
       "1     113923        980        653  \n",
       "2     203595       1170        780  \n",
       "3     124849       1400        800  \n",
       "4      76857       1200        621  \n",
       "\n",
       "[5 rows x 2054 columns]"
      ],
      "text/html": "<div>\n<style scoped>\n    .dataframe tbody tr th:only-of-type {\n        vertical-align: middle;\n    }\n\n    .dataframe tbody tr th {\n        vertical-align: top;\n    }\n\n    .dataframe thead tr th {\n        text-align: left;\n    }\n</style>\n<table border=\"1\" class=\"dataframe\">\n  <thead>\n    <tr>\n      <th></th>\n      <th>n0</th>\n      <th>n1</th>\n      <th>n2</th>\n      <th>n3</th>\n      <th>n4</th>\n      <th>n5</th>\n      <th>n6</th>\n      <th>n7</th>\n      <th>n8</th>\n      <th>n9</th>\n      <th>...</th>\n      <th>n2044</th>\n      <th>n2045</th>\n      <th>n2046</th>\n      <th>n2047</th>\n      <th>category</th>\n      <th>image name</th>\n      <th>image</th>\n      <th>size</th>\n      <th>width</th>\n      <th>height</th>\n    </tr>\n    <tr>\n      <th></th>\n      <th>continuous</th>\n      <th>continuous</th>\n      <th>continuous</th>\n      <th>continuous</th>\n      <th>continuous</th>\n      <th>continuous</th>\n      <th>continuous</th>\n      <th>continuous</th>\n      <th>continuous</th>\n      <th>continuous</th>\n      <th>...</th>\n      <th>continuous</th>\n      <th>continuous</th>\n      <th>continuous</th>\n      <th>continuous</th>\n      <th>antman blackwidow ironman</th>\n      <th>string</th>\n      <th>string</th>\n      <th>continuous</th>\n      <th>continuous</th>\n      <th>continuous</th>\n    </tr>\n    <tr>\n      <th></th>\n      <th>hidden=True</th>\n      <th>hidden=True</th>\n      <th>hidden=True</th>\n      <th>hidden=True</th>\n      <th>hidden=True</th>\n      <th>hidden=True</th>\n      <th>hidden=True</th>\n      <th>hidden=True</th>\n      <th>hidden=True</th>\n      <th>hidden=True</th>\n      <th>...</th>\n      <th>hidden=True</th>\n      <th>hidden=True</th>\n      <th>hidden=True</th>\n      <th>hidden=True</th>\n      <th>class</th>\n      <th>meta</th>\n      <th>meta origin=/Users/htorres/Developer/iteso/javiertlopez/machine-learning/projects/images/train type=image</th>\n      <th>meta</th>\n      <th>meta</th>\n      <th>meta</th>\n    </tr>\n  </thead>\n  <tbody>\n    <tr>\n      <th>0</th>\n      <td>0.057233</td>\n      <td>0.250492</td>\n      <td>0.063942</td>\n      <td>0.172508</td>\n      <td>0.151336</td>\n      <td>0.761282</td>\n      <td>0.329639</td>\n      <td>0.305660</td>\n      <td>0.288729</td>\n      <td>0.177333</td>\n      <td>...</td>\n      <td>0.283171</td>\n      <td>0.454857</td>\n      <td>0.320978</td>\n      <td>0.617408</td>\n      <td>antman</td>\n      <td>antman_05</td>\n      <td>antman/antman_05.jpg</td>\n      <td>15178</td>\n      <td>890</td>\n      <td>534</td>\n    </tr>\n    <tr>\n      <th>1</th>\n      <td>0.527960</td>\n      <td>0.065968</td>\n      <td>0.322380</td>\n      <td>0.227833</td>\n      <td>0.332396</td>\n      <td>0.514956</td>\n      <td>0.189759</td>\n      <td>0.063305</td>\n      <td>0.626723</td>\n      <td>0.218293</td>\n      <td>...</td>\n      <td>0.045701</td>\n      <td>0.164897</td>\n      <td>0.256737</td>\n      <td>0.716811</td>\n      <td>antman</td>\n      <td>antman_11</td>\n      <td>antman/antman_11.jpg</td>\n      <td>113923</td>\n      <td>980</td>\n      <td>653</td>\n    </tr>\n    <tr>\n      <th>2</th>\n      <td>1.285565</td>\n      <td>0.276849</td>\n      <td>0.170459</td>\n      <td>0.122833</td>\n      <td>0.418304</td>\n      <td>0.961085</td>\n      <td>0.412920</td>\n      <td>0.158372</td>\n      <td>0.352132</td>\n      <td>0.197926</td>\n      <td>...</td>\n      <td>0.231471</td>\n      <td>0.834457</td>\n      <td>0.081953</td>\n      <td>0.640881</td>\n      <td>antman</td>\n      <td>antman_10</td>\n      <td>antman/antman_10.jpg</td>\n      <td>203595</td>\n      <td>1170</td>\n      <td>780</td>\n    </tr>\n    <tr>\n      <th>3</th>\n      <td>0.630173</td>\n      <td>0.549427</td>\n      <td>0.060149</td>\n      <td>0.046236</td>\n      <td>0.156370</td>\n      <td>1.016843</td>\n      <td>0.223010</td>\n      <td>0.472131</td>\n      <td>0.140830</td>\n      <td>0.367068</td>\n      <td>...</td>\n      <td>0.207662</td>\n      <td>0.169669</td>\n      <td>0.319665</td>\n      <td>0.268576</td>\n      <td>antman</td>\n      <td>antman_12</td>\n      <td>antman/antman_12.jpg</td>\n      <td>124849</td>\n      <td>1400</td>\n      <td>800</td>\n    </tr>\n    <tr>\n      <th>4</th>\n      <td>0.657571</td>\n      <td>0.064198</td>\n      <td>0.196774</td>\n      <td>0.145046</td>\n      <td>0.359520</td>\n      <td>0.502956</td>\n      <td>0.006879</td>\n      <td>0.213103</td>\n      <td>0.047750</td>\n      <td>0.067372</td>\n      <td>...</td>\n      <td>0.287636</td>\n      <td>0.210364</td>\n      <td>0.522674</td>\n      <td>0.349880</td>\n      <td>antman</td>\n      <td>antman_06</td>\n      <td>antman/antman_06.jpg</td>\n      <td>76857</td>\n      <td>1200</td>\n      <td>621</td>\n    </tr>\n  </tbody>\n</table>\n<p>5 rows × 2054 columns</p>\n</div>"
     },
     "metadata": {},
     "execution_count": 2
    }
   ],
   "source": [
    "df = pd.read_csv('images_training.csv', header=[0,1,2])\n",
    "df.head()"
   ]
  },
  {
   "cell_type": "code",
   "execution_count": 3,
   "metadata": {},
   "outputs": [
    {
     "output_type": "execute_result",
     "data": {
      "text/plain": [
       "           n0          n1          n2          n3          n4          n5  \\\n",
       "   continuous  continuous  continuous  continuous  continuous  continuous   \n",
       "  hidden=True hidden=True hidden=True hidden=True hidden=True hidden=True   \n",
       "0    0.234792    0.141748    0.059654    0.080194    0.142467    0.314977   \n",
       "1    0.256100    0.236293    0.215011    0.052723    0.134046    0.230483   \n",
       "2    0.773314    0.132577    0.197192    0.053390    0.239535    0.667954   \n",
       "3    0.819236    0.502766    0.172269    0.233084    0.138240    0.594534   \n",
       "4    0.690554    0.147345    0.033754    0.386049    0.844177    0.449865   \n",
       "\n",
       "           n6          n7          n8          n9  ...       n2044  \\\n",
       "   continuous  continuous  continuous  continuous  ...  continuous   \n",
       "  hidden=True hidden=True hidden=True hidden=True  ... hidden=True   \n",
       "0    0.724365    0.294518    0.366244    0.151224  ...    0.161484   \n",
       "1    0.198870    0.489423    0.412602    0.164717  ...    0.286692   \n",
       "2    0.190609    0.049277    0.233941    0.332786  ...    0.067606   \n",
       "3    0.180502    0.083033    0.272655    0.063242  ...    0.182539   \n",
       "4    0.209697    0.121905    0.155667    0.303998  ...    0.579801   \n",
       "\n",
       "        n2045       n2046       n2047                  category image name  \\\n",
       "   continuous  continuous  continuous antman blackwidow ironman     string   \n",
       "  hidden=True hidden=True hidden=True                     class       meta   \n",
       "0    0.395817    0.181489    0.364099                    antman  antman_04   \n",
       "1    0.022557    0.329722    0.203022                    antman  antman_17   \n",
       "2    0.305393    0.185948    0.028605                    antman  antman_03   \n",
       "3    0.309487    0.106216    0.045517                    antman  antman_02   \n",
       "4    0.752738    0.576987    0.696267                    antman  antman_18   \n",
       "\n",
       "                                                                                                     image  \\\n",
       "                                                                                                    string   \n",
       "  meta origin=/Users/htorres/Developer/iteso/javiertlopez/machine-learning/projects/images/test type=image   \n",
       "0                               antman/antman_04.jpg                                                         \n",
       "1                               antman/antman_17.jpg                                                         \n",
       "2                               antman/antman_03.jpg                                                         \n",
       "3                               antman/antman_02.jpg                                                         \n",
       "4                               antman/antman_18.jpg                                                         \n",
       "\n",
       "        size      width     height  \n",
       "  continuous continuous continuous  \n",
       "        meta       meta       meta  \n",
       "0     169385       2000       1125  \n",
       "1       7113        299        168  \n",
       "2     156273        360        450  \n",
       "3     902297        720        994  \n",
       "4       9667        318        159  \n",
       "\n",
       "[5 rows x 2054 columns]"
      ],
      "text/html": "<div>\n<style scoped>\n    .dataframe tbody tr th:only-of-type {\n        vertical-align: middle;\n    }\n\n    .dataframe tbody tr th {\n        vertical-align: top;\n    }\n\n    .dataframe thead tr th {\n        text-align: left;\n    }\n</style>\n<table border=\"1\" class=\"dataframe\">\n  <thead>\n    <tr>\n      <th></th>\n      <th>n0</th>\n      <th>n1</th>\n      <th>n2</th>\n      <th>n3</th>\n      <th>n4</th>\n      <th>n5</th>\n      <th>n6</th>\n      <th>n7</th>\n      <th>n8</th>\n      <th>n9</th>\n      <th>...</th>\n      <th>n2044</th>\n      <th>n2045</th>\n      <th>n2046</th>\n      <th>n2047</th>\n      <th>category</th>\n      <th>image name</th>\n      <th>image</th>\n      <th>size</th>\n      <th>width</th>\n      <th>height</th>\n    </tr>\n    <tr>\n      <th></th>\n      <th>continuous</th>\n      <th>continuous</th>\n      <th>continuous</th>\n      <th>continuous</th>\n      <th>continuous</th>\n      <th>continuous</th>\n      <th>continuous</th>\n      <th>continuous</th>\n      <th>continuous</th>\n      <th>continuous</th>\n      <th>...</th>\n      <th>continuous</th>\n      <th>continuous</th>\n      <th>continuous</th>\n      <th>continuous</th>\n      <th>antman blackwidow ironman</th>\n      <th>string</th>\n      <th>string</th>\n      <th>continuous</th>\n      <th>continuous</th>\n      <th>continuous</th>\n    </tr>\n    <tr>\n      <th></th>\n      <th>hidden=True</th>\n      <th>hidden=True</th>\n      <th>hidden=True</th>\n      <th>hidden=True</th>\n      <th>hidden=True</th>\n      <th>hidden=True</th>\n      <th>hidden=True</th>\n      <th>hidden=True</th>\n      <th>hidden=True</th>\n      <th>hidden=True</th>\n      <th>...</th>\n      <th>hidden=True</th>\n      <th>hidden=True</th>\n      <th>hidden=True</th>\n      <th>hidden=True</th>\n      <th>class</th>\n      <th>meta</th>\n      <th>meta origin=/Users/htorres/Developer/iteso/javiertlopez/machine-learning/projects/images/test type=image</th>\n      <th>meta</th>\n      <th>meta</th>\n      <th>meta</th>\n    </tr>\n  </thead>\n  <tbody>\n    <tr>\n      <th>0</th>\n      <td>0.234792</td>\n      <td>0.141748</td>\n      <td>0.059654</td>\n      <td>0.080194</td>\n      <td>0.142467</td>\n      <td>0.314977</td>\n      <td>0.724365</td>\n      <td>0.294518</td>\n      <td>0.366244</td>\n      <td>0.151224</td>\n      <td>...</td>\n      <td>0.161484</td>\n      <td>0.395817</td>\n      <td>0.181489</td>\n      <td>0.364099</td>\n      <td>antman</td>\n      <td>antman_04</td>\n      <td>antman/antman_04.jpg</td>\n      <td>169385</td>\n      <td>2000</td>\n      <td>1125</td>\n    </tr>\n    <tr>\n      <th>1</th>\n      <td>0.256100</td>\n      <td>0.236293</td>\n      <td>0.215011</td>\n      <td>0.052723</td>\n      <td>0.134046</td>\n      <td>0.230483</td>\n      <td>0.198870</td>\n      <td>0.489423</td>\n      <td>0.412602</td>\n      <td>0.164717</td>\n      <td>...</td>\n      <td>0.286692</td>\n      <td>0.022557</td>\n      <td>0.329722</td>\n      <td>0.203022</td>\n      <td>antman</td>\n      <td>antman_17</td>\n      <td>antman/antman_17.jpg</td>\n      <td>7113</td>\n      <td>299</td>\n      <td>168</td>\n    </tr>\n    <tr>\n      <th>2</th>\n      <td>0.773314</td>\n      <td>0.132577</td>\n      <td>0.197192</td>\n      <td>0.053390</td>\n      <td>0.239535</td>\n      <td>0.667954</td>\n      <td>0.190609</td>\n      <td>0.049277</td>\n      <td>0.233941</td>\n      <td>0.332786</td>\n      <td>...</td>\n      <td>0.067606</td>\n      <td>0.305393</td>\n      <td>0.185948</td>\n      <td>0.028605</td>\n      <td>antman</td>\n      <td>antman_03</td>\n      <td>antman/antman_03.jpg</td>\n      <td>156273</td>\n      <td>360</td>\n      <td>450</td>\n    </tr>\n    <tr>\n      <th>3</th>\n      <td>0.819236</td>\n      <td>0.502766</td>\n      <td>0.172269</td>\n      <td>0.233084</td>\n      <td>0.138240</td>\n      <td>0.594534</td>\n      <td>0.180502</td>\n      <td>0.083033</td>\n      <td>0.272655</td>\n      <td>0.063242</td>\n      <td>...</td>\n      <td>0.182539</td>\n      <td>0.309487</td>\n      <td>0.106216</td>\n      <td>0.045517</td>\n      <td>antman</td>\n      <td>antman_02</td>\n      <td>antman/antman_02.jpg</td>\n      <td>902297</td>\n      <td>720</td>\n      <td>994</td>\n    </tr>\n    <tr>\n      <th>4</th>\n      <td>0.690554</td>\n      <td>0.147345</td>\n      <td>0.033754</td>\n      <td>0.386049</td>\n      <td>0.844177</td>\n      <td>0.449865</td>\n      <td>0.209697</td>\n      <td>0.121905</td>\n      <td>0.155667</td>\n      <td>0.303998</td>\n      <td>...</td>\n      <td>0.579801</td>\n      <td>0.752738</td>\n      <td>0.576987</td>\n      <td>0.696267</td>\n      <td>antman</td>\n      <td>antman_18</td>\n      <td>antman/antman_18.jpg</td>\n      <td>9667</td>\n      <td>318</td>\n      <td>159</td>\n    </tr>\n  </tbody>\n</table>\n<p>5 rows × 2054 columns</p>\n</div>"
     },
     "metadata": {},
     "execution_count": 3
    }
   ],
   "source": [
    "df_test = pd.read_csv('images_test.csv', header=[0,1,2])\n",
    "df_test.head()"
   ]
  },
  {
   "cell_type": "code",
   "execution_count": 4,
   "metadata": {},
   "outputs": [],
   "source": [
    "X = df.iloc[:,:2047].values\n",
    "y = df.iloc[:,2048:2049].values\n",
    "y = y[:, 0]"
   ]
  },
  {
   "cell_type": "code",
   "execution_count": 5,
   "metadata": {},
   "outputs": [],
   "source": [
    "X_train, X_test, y_train, y_test = train_test_split(X, y, test_size=0.30, random_state=42)"
   ]
  },
  {
   "source": [
    "## Random Forest\n",
    "### Tree size between 5 and 10"
   ],
   "cell_type": "markdown",
   "metadata": {}
  },
  {
   "cell_type": "code",
   "execution_count": 6,
   "metadata": {},
   "outputs": [],
   "source": [
    "from sklearn.ensemble import RandomForestClassifier\n",
    "from sklearn.metrics import accuracy_score"
   ]
  },
  {
   "cell_type": "code",
   "execution_count": 7,
   "metadata": {},
   "outputs": [
    {
     "output_type": "execute_result",
     "data": {
      "text/plain": [
       "RandomForestClassifier(max_depth=5, n_estimators=5, random_state=42)"
      ]
     },
     "metadata": {},
     "execution_count": 7
    }
   ],
   "source": [
    "rfc5 = RandomForestClassifier(n_estimators=5, random_state=42, max_depth=5)\n",
    "rfc5.fit(X_train, y_train)"
   ]
  },
  {
   "cell_type": "code",
   "execution_count": 8,
   "metadata": {},
   "outputs": [
    {
     "output_type": "stream",
     "name": "stdout",
     "text": [
      "Tree size: 5, Accuracy 0.7857142857142857\n"
     ]
    }
   ],
   "source": [
    "y_pred5 = rfc5.predict(X_test)\n",
    "\n",
    "print('Tree size: 5, Accuracy', accuracy_score(y_test, y_pred5))"
   ]
  },
  {
   "cell_type": "code",
   "execution_count": 9,
   "metadata": {},
   "outputs": [
    {
     "output_type": "execute_result",
     "data": {
      "text/plain": [
       "RandomForestClassifier(max_depth=10, n_estimators=10, random_state=42)"
      ]
     },
     "metadata": {},
     "execution_count": 9
    }
   ],
   "source": [
    "rfc10 = RandomForestClassifier(n_estimators=10, random_state=42, max_depth=10)\n",
    "rfc10.fit(X_train, y_train)"
   ]
  },
  {
   "cell_type": "code",
   "execution_count": 10,
   "metadata": {},
   "outputs": [
    {
     "output_type": "stream",
     "name": "stdout",
     "text": [
      "Tree size: 10, Accuracy 0.7857142857142857\n"
     ]
    }
   ],
   "source": [
    "y_pred10 = rfc10.predict(X_test)\n",
    "\n",
    "print('Tree size: 10, Accuracy', accuracy_score(y_test, y_pred10))"
   ]
  },
  {
   "cell_type": "code",
   "execution_count": 12,
   "metadata": {},
   "outputs": [],
   "source": [
    "X_test_set = df_test.iloc[:,:2047].values\n",
    "y_test_set = df_test.iloc[:,2048:2049].values\n",
    "y_test_set = y_test_set[:, 0]"
   ]
  },
  {
   "cell_type": "code",
   "execution_count": 13,
   "metadata": {},
   "outputs": [
    {
     "output_type": "stream",
     "name": "stdout",
     "text": [
      "Tree size: 5, Accuracy 0.5333333333333333\n"
     ]
    }
   ],
   "source": [
    "y_pred_test = rfc5.predict(X_test_set)\n",
    "\n",
    "print('Tree size: 5, Accuracy', accuracy_score(y_test_set, y_pred_test))"
   ]
  },
  {
   "source": [
    "## SVM"
   ],
   "cell_type": "markdown",
   "metadata": {}
  },
  {
   "cell_type": "code",
   "execution_count": 65,
   "metadata": {},
   "outputs": [],
   "source": [
    "from sklearn.svm import SVC\n",
    "svm_clf = SVC(kernel=\"linear\", C=0.07, random_state=42) # linear kernel"
   ]
  },
  {
   "cell_type": "code",
   "execution_count": 66,
   "metadata": {},
   "outputs": [
    {
     "output_type": "execute_result",
     "data": {
      "text/plain": [
       "SVC(C=0.07, kernel='linear', random_state=42)"
      ]
     },
     "metadata": {},
     "execution_count": 66
    }
   ],
   "source": [
    "svm_clf.fit(X_train, y_train)"
   ]
  },
  {
   "cell_type": "code",
   "execution_count": 67,
   "metadata": {},
   "outputs": [
    {
     "output_type": "stream",
     "name": "stdout",
     "text": [
      "Accuracy:  0.8571428571428571\n"
     ]
    }
   ],
   "source": [
    "y_pred = svm_clf.predict(X_test)\n",
    "\n",
    "print('Accuracy: ', accuracy_score(y_test, y_pred))"
   ]
  },
  {
   "cell_type": "code",
   "execution_count": 68,
   "metadata": {},
   "outputs": [],
   "source": [
    "svm_clf = SVC(kernel=\"poly\", C=1, random_state=42) # poly kernel"
   ]
  },
  {
   "cell_type": "code",
   "execution_count": 69,
   "metadata": {},
   "outputs": [
    {
     "output_type": "execute_result",
     "data": {
      "text/plain": [
       "SVC(C=1, kernel='poly', random_state=42)"
      ]
     },
     "metadata": {},
     "execution_count": 69
    }
   ],
   "source": [
    "svm_clf.fit(X_train, y_train)"
   ]
  },
  {
   "cell_type": "code",
   "execution_count": 70,
   "metadata": {},
   "outputs": [
    {
     "output_type": "stream",
     "name": "stdout",
     "text": [
      "Accuracy: 0.9285714285714286\n"
     ]
    }
   ],
   "source": [
    "y_pred = svm_clf.predict(X_test)\n",
    "\n",
    "print('Accuracy:', accuracy_score(y_test, y_pred))"
   ]
  },
  {
   "cell_type": "code",
   "execution_count": 71,
   "metadata": {},
   "outputs": [
    {
     "output_type": "stream",
     "name": "stdout",
     "text": [
      "Accuracy 0.7333333333333333\n"
     ]
    }
   ],
   "source": [
    "y_pred_test = svm_clf.predict(X_test_set)\n",
    "\n",
    "print('Accuracy', accuracy_score(y_test_set, y_pred_test))"
   ]
  },
  {
   "source": [
    "## Neural network"
   ],
   "cell_type": "markdown",
   "metadata": {}
  },
  {
   "cell_type": "code",
   "execution_count": 93,
   "metadata": {},
   "outputs": [],
   "source": [
    "from sklearn.neural_network import MLPClassifier\n",
    "mlp_clf = MLPClassifier(random_state=42)"
   ]
  },
  {
   "cell_type": "code",
   "execution_count": 94,
   "metadata": {},
   "outputs": [
    {
     "output_type": "execute_result",
     "data": {
      "text/plain": [
       "MLPClassifier(random_state=42)"
      ]
     },
     "metadata": {},
     "execution_count": 94
    }
   ],
   "source": [
    "mlp_clf.fit(X_train, y_train)"
   ]
  },
  {
   "cell_type": "code",
   "execution_count": 95,
   "metadata": {},
   "outputs": [
    {
     "output_type": "stream",
     "name": "stdout",
     "text": [
      "Accuracy default values: 0.7857142857142857\n"
     ]
    }
   ],
   "source": [
    "y_pred = mlp_clf.predict(X_test)\n",
    "\n",
    "print('Accuracy:', accuracy_score(y_test, y_pred))"
   ]
  },
  {
   "cell_type": "code",
   "execution_count": 96,
   "metadata": {},
   "outputs": [],
   "source": [
    "mlp_clf = MLPClassifier(hidden_layer_sizes=(74, 48, 27, 24, 7, ), random_state=42)"
   ]
  },
  {
   "cell_type": "code",
   "execution_count": 100,
   "metadata": {},
   "outputs": [
    {
     "output_type": "stream",
     "name": "stdout",
     "text": [
      "Accuracy with 100 hidden layers: 0.7857142857142857\n"
     ]
    }
   ],
   "source": [
    "mlp_clf.fit(X_train, y_train)\n",
    "y_pred = mlp_clf.predict(X_test)\n",
    "\n",
    "print('Accuracy:', accuracy_score(y_test, y_pred))"
   ]
  },
  {
   "cell_type": "code",
   "execution_count": 99,
   "metadata": {},
   "outputs": [
    {
     "output_type": "stream",
     "name": "stdout",
     "text": [
      "Accuracy with 10000 hidden layers: 0.7857142857142857\n"
     ]
    }
   ],
   "source": [
    "mlp_clf = MLPClassifier(hidden_layer_sizes=(27, 24, 18, 7, 4,), random_state=42)\n",
    "mlp_clf.fit(X_train, y_train)\n",
    "y_pred = mlp_clf.predict(X_test)\n",
    "\n",
    "print('Accuracy:', accuracy_score(y_test, y_pred))"
   ]
  },
  {
   "cell_type": "code",
   "execution_count": null,
   "metadata": {},
   "outputs": [],
   "source": []
  }
 ]
}